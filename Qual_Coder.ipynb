{
 "cells": [
  {
   "cell_type": "markdown",
   "id": "68081004",
   "metadata": {},
   "source": [
    "## Qualitative Coding through Jupyter\n",
    "\n",
    "This notebook allows the user to qualitatively code a corpus of text documents; it is broken up into various blocks that perform certain tasks on the corpus. Provided below is a list of the functionality currently provided by this notebook:\n",
    "- [Loading of data frame.](#loadBlock)\n",
    "- [Adding authored tags to unseen documents in sequential order](#inputBlock)\n",
    "- [Saving of data frame.](#saveBlock)\n",
    "- [Filtering of data frame based on list of tags of provided.](#filtBlock)\n",
    "- [Filtering of data frame based on whether tags are agreed upon between authors.](#diffBlock)\n",
    "- [Listing of tags and stating their frequency of use across training set.](#tagViewBlock)\n",
    "- [Editing individual documents where tags may be added and removed.](#editBlock)\n",
    "- [Deleting of a tag across all documents.](#tagDelBlock)\n",
    "- [Merging tags together into a single umbrella tag](#mergeBlock)\n",
    "- [Saving a final personalized set of codes that is to be merged with others](#endSaveBlock)\n",
    "\n",
    "\n",
    "To get started, run the first block in order to import the libraries needed for coding."
   ]
  },
  {
   "cell_type": "code",
   "execution_count": null,
   "id": "f07b49d9",
   "metadata": {},
   "outputs": [],
   "source": [
    "import pandas as pd\n",
    "pd.options.mode.chained_assignment = None # block false positive warning\n",
    "import numpy as np\n",
    "import pprint\n",
    "pp = pprint.PrettyPrinter(indent=5)\n",
    "\n",
    "omit = ['text', 'completion', 'id', 'index', 'section'] # columns that are not tags."
   ]
  },
  {
   "cell_type": "markdown",
   "id": "f5549cc6",
   "metadata": {},
   "source": [
    "### Function Library\n",
    "\n",
    "**RUN THIS BLOCK** As it contains the various functions that appear across the length of this notebook. Provided below is a short list of each function's purpose and its arugments.\n",
    "1. `primeName` : translates integer values into a list of users who have tagged a document.\n",
    " - `val` : integer value describing users.\n",
    "\n",
    "2. `commPrint` : a function that prints out a document's text, its tags, and the authors of the tags in a somewhat aesthetic fashion.\n",
    " - `ind` : integer value that sorts documents within the same section.\n",
    " - `sec` : the section the document belongs to in the corpus.\n",
    " - `df` : the data frame.\n",
    " - `tagblind` : a boolean variable deciding whether existing tags are printed alongside a document. `True` hides existing tags and `False` reveals them.\n",
    " - `users` : the list of all coders and their associated prime numbers.\n",
    "\n",
    "\n",
    "3. `commView` : a function that allows you to filter rows from the data frame based on a subset of provided tags.\n",
    " - `taglist` : a list of tags that are used as the criteria for filtration. \n",
    " - `df` : the data frame.\n",
    " - `andOr` : An arguement of critical importance. Setting it to true makes it so that you filter out rows with documents that contain ___all___ of the tags that you listed. Setting it to false makes it so that you filter out rows with documents that contain ___any___ of the tags that you listed.\n",
    "\n",
    "\n",
    "4. `commDiff` : a function that allows you to filter rows from data frame based on whether the authors have agreed upon all of the documents.\n",
    " - `df` : the data frame.\n",
    " \n",
    "\n",
    "5. `tagCount` : a function that counts that number of documents upon which a tag has been placed.\n",
    " - `tagCol` : a tag's column from the data frame. \n",
    "\n",
    "\n",
    "6. `tagSplitAdd` : a function that adds in new tags to a document based on the contents of a raw string fed in as arugment. The addition of tags tracked by a user's signature.\n",
    " - `ind` : integer value that sorts documents within the same section.\n",
    " - `sec` : the section the document belongs to in the corpus.\n",
    " - `df` : the data frame.\n",
    " - `tagstr` : a string list that contains all of the tags which are to be added to a document.\n",
    " - `user` : prime number that serves as a user signature.\n",
    "\n",
    "\n",
    "7. `tagSplitDel` : a function that deletes tags currently assigned to a document subject to a raw string fed in as argument. Deletion is anonymized, so it is not possible to track who has deleted the tags of another user.\n",
    " - `ind` : integer value that sorts documents within the same section.\n",
    " - `sec` : the section the document belongs to in the corpus.\n",
    " - `df` : the data frame.\n",
    " - `tagstr` : a string list that contains all of the tags which are to be removed from a document.\n",
    "\n",
    "\n",
    "8. `tagEdit` : a navigation function that performs various operations on the data frame. Currently it used to navigate to the tag addition and tag deletion operations. \n",
    " - `ind` : integer value that sorts documents within the same section.\n",
    " - `sec` : the section the document belongs to in the corpus.\n",
    " - `df` : the data frame.\n",
    " - `user` : prime number that serves as a user signature.\n",
    " - `goal` : input `a` for addition, `d` for deletion, or `b` for addition followed by deletion.\n",
    " \n",
    " \n",
    " 9. `tagWholeDel` : a navigtion function that deletes a selected tag.\n",
    "  - `tag` : the tag that is slated for deletion from the data frame.\n",
    "  - `df` : the data frame.\n",
    "  \n",
    " \n",
    "10. `tagMerge` : a function that merges several tags together into a single umbrella tag. The authorship of each component tag will be inherited by the umbrella tag. If you wish to remove the component tags afterward, that may also be done automatically by this function.\n",
    " - `compTag` : a list of tags that are to be merged together.\n",
    " - `umbTag` : a label for the new tag that will serve as the amalgam of the component tags.\n",
    " - `df` : the data frame.\n",
    " - `clean` : boolean value. Setting it to `True` makes it delete all of the component tags after creating the new collective umbrella tag."
   ]
  },
  {
   "cell_type": "code",
   "execution_count": null,
   "id": "b0883c58",
   "metadata": {},
   "outputs": [],
   "source": [
    "def primeName(val, users) : # function that translates numbers into list of users:\n",
    "    taggers = '' # start with empty list\n",
    "    for user_name, user_prime in users:\n",
    "        if(val % user_prime == 0):\n",
    "            taggers += f'{user_name}, '\n",
    "    if(taggers.endswith(', ')) : # snip comma off end (assuming >0 names are present)\n",
    "        taggers = taggers[:-2] # snip it off\n",
    "    return taggers # return string list\n",
    "\n",
    "def commPrint(ind, sec, df, tagblind, users) : # prints out a comment and its tags\n",
    "    print(f\" \\n\\t---- READING IN DOCUMENT {ind} FROM SECTION {sec} ---- \\n\")\n",
    "    ent = df[(df['index'] == ind) & (df['section'] == sec)].index.tolist()[0]\n",
    "    pp.pprint(df['text'][ent]) # pretty print the student comment\n",
    "    print(\"\\nCurrently associated tags:\")\n",
    "    if(not tagblind) : # are we allowed to look at the current tags?\n",
    "        for tag in df.columns : # read each tag in the data frame.\n",
    "            if(tag in omit) : # skip the non-tag columns\n",
    "                continue\n",
    "            if(df[tag][ent] > 1) : # has someone left this tag on this comment\n",
    "                print(f'\\t{tag} - {primeName(df[tag][ent], users)}') # print out the tag and its taggers\n",
    "\n",
    "def commView(taglist, df, andOr): # function that returns certain comments based on the tags that are included in list\n",
    "    boolMat = [ # list comp within list comp\n",
    "        [\n",
    "            (df[tag][ind]>1) for tag in taglist # look at each tag # see if appropriate tag has been left by anyone\n",
    "        ] for ind, row in df.iterrows() # list comprehension over no. of rows\n",
    "        \n",
    "    ]\n",
    "    if(andOr) : # and?\n",
    "        filt = [all(row) for row in boolMat] # see if tag appears in all columns\n",
    "    else : # or?\n",
    "        filt = [any(row) for row in boolMat] # see if tag appears in any column\n",
    "    return filt # return the filtered data frame.            \n",
    "\n",
    "def commDiff(df): # function that returns certain comments where there is discrepancy on tag assignment between authors\n",
    "    boolMat = [ # list comp within list comp\n",
    "        [\n",
    "            (df[tag][ind] < df['completion'][ind] and df[tag][ind] != 1) for tag in df.columns if tag not in omit  # look at each tag # to see if unacceptable\n",
    "        ] for ind, row in df.iterrows() # list comprehension over no. of rows\n",
    "        \n",
    "    ]\n",
    "    filt = [any(row) for row in boolMat] # see if tag appears in all columns\n",
    "    return df.loc[filt] # return the filtered data frame.\n",
    "\n",
    "def tagCount(tagCol) : # counts the non-one entries for a given tag\n",
    "    count = tagCol.apply(lambda val: int(val > 1))\n",
    "    return count.sum() # return summed value\n",
    "            \n",
    "def tagSplitAdd(ind, sec, df, tagstr, user) : # turns raw string into list of tags that are added to data frame.\n",
    "    if(not tagstr) : # quit right away if blank string is entered.\n",
    "        print(\"  skipping tag addition operation... \")\n",
    "        return df\n",
    "    taglist = tagstr.split(', ') # split string into list based on comma placement\n",
    "    ent = df[(df['index'] == ind) & (df['section'] == sec)].index.tolist()[0]\n",
    "    for tag in taglist : # look at each tag in the list\n",
    "        if(tag not in df) : # if this tag is not present in the current dataframe\n",
    "            df[tag] = 1 # create new unfilled column\n",
    "        if(df[tag][ent] % user != 0) : # failsafe to avoid over-tagging the same comment\n",
    "            df[tag][ent] *= user # adjust setting for this tag on this comment by this user\n",
    "        if(df['completion'][ent] % user != 0) : # failsafe to avoid over-completing the same comment\n",
    "            df['completion'][ent] *= user # mark this comment as completed by this user\n",
    "    return df\n",
    "\n",
    "def tagSplitDel(ind, sec, df, tagstr) : # turns raw string into list of tags that are to be removed from the data frame.\n",
    "    if(not tagstr) : # quit right away if blank string is entered. \n",
    "        print(\"  skipping tag deletion operation... \")\n",
    "        return df\n",
    "    taglist = tagstr.split(', ') # otherwise, split string into list based on comma placemnet\n",
    "    ent = df[(df['index'] == ind) & (df['section'] == sec)].index.tolist()[0]\n",
    "    for tag in taglist : # look at each tag in the list\n",
    "        if(tag not in df.columns) : # if this tag is not present in the current dataframe\n",
    "            print(f\"The tag {tag} does not exist. Deletion of it has been skipped.\")\n",
    "            continue # skip this mistake that must have been a typo\n",
    "        df[tag][ent] = 1 # undo the placement of this tag by all users\n",
    "        if(df[tag].sum() == len(df)): # is this tag now never used? \n",
    "            print(f\"The tag {tag} is no longer used and shall be discarded from the data frame.\")\n",
    "            df.drop(columns = tag, inplace = True) # drop column from the data frame\n",
    "        tags = [tag for tag in df.columns if tag not in omit]\n",
    "        if(df[tags].sum(axis=1)[ent] == len(tags)) : # is this comment now untagged?\n",
    "            print(\"This comment no longer has any tags and shall be re-assigned as incomplete.\")\n",
    "            df[\"completion\"][ent] = 1 # reset completion value to 1.\n",
    "    return df\n",
    "\n",
    "def tagEdit(ind, sec, df, user, users) : # function that shows the current tags on a comment and allows you to edit said tags\n",
    "    commPrint(ind, sec, df, False, users) # print out the current comment\n",
    "    cho = input(\"\\nEnter 'a' for adding tags, 'd' for removing tags, or 'b' for adding then deleting tags from this comment: \")\n",
    "    if(not cho): # return a blank string\n",
    "        print('Skipping tagging procedure.')\n",
    "        return df \n",
    "    if(cho.lower() in 'ab') : # add tag protocol\n",
    "        rawtags = input('Please list the tags that you would like to add to this comment: ')\n",
    "        df = tagSplitAdd(ind, sec, df, rawtags, user)\n",
    "    if(cho.lower() in 'bd') : # delete tag protocol\n",
    "        rawtags = input('Please list the tags that you would like to remove from this comment: ')\n",
    "        df = tagSplitDel(ind, sec, df, rawtags) \n",
    "    return df\n",
    "\n",
    "def tagWholeDel(tag, df) : # function that deletes a tag across all comments.\n",
    "    if(tag not in df.columns) : # Is this even a tag that exists\n",
    "        print(\"  Attempted to delete non-existent tag. Now returning unchanged data frame.\")\n",
    "        return df\n",
    "    df.drop(columns = tag, inplace = True) # delete the comment\n",
    "    tags = [tag for tag in df.columns if tag not in omit]\n",
    "    for ind, row in df.iterrows() : # review each comment\n",
    "        if(row[tags].sum() == len(tags)) : # is this comment now untagged?\n",
    "            print(f\"  Document {row['index']} from Section {row['section']} no longer has any tags and shall be re-assigned as incomplete.\")\n",
    "            row[\"Completion\"] = 1 # reset completion value to 1\n",
    "    return df\n",
    "\n",
    "def tagMerge(compTag, umbTag, df, clean) : # a function that merges several existing tags together into one common tag.\n",
    "    tagMat = [ # list comp within list comp\n",
    "        [\n",
    "            df[tag][ind] for tag in compTag if tag in df # copy each tag value for the relevant component tags\n",
    "        ] for ind, row in df.iterrows() # list comprehension over no. of rows\n",
    "        \n",
    "    ]\n",
    "    if(tagMat[0]): # do any of these merging tags even exist?\n",
    "        df[umbTag] = [np.lcm.reduce(tagRow) for tagRow in tagMat] # set new column equal\n",
    "    else: # if not, just create an empty nowhere present tag for our setup.\n",
    "        df[umbTag] = np.full(len(tagMat),1) # mark it as such\n",
    "    if(clean) : # are we purging all of the old columns?\n",
    "        if(umbTag in compTag) : # is umbrella tag one of our component tags?\n",
    "            compTag.remove(umbTag) # remove it so that we don't undo all of our efforts\n",
    "        df.drop(columns = compTag, inplace = True) # drop all unnecessary tags.\n",
    "    return df"
   ]
  },
  {
   "cell_type": "markdown",
   "id": "d06b1bdf",
   "metadata": {},
   "source": [
    "### Picking the Relevant File\n",
    "\n",
    "Adjust the variable in this block to change the `.csv` file is being coded. The initial loaded file must have the following columns:\n",
    "- `text`: column filled with the string of information contained within a document.\n",
    "- `completion`: column of integer values that tracks which users have completed a document.\n",
    "- `id`: column of integer values used to merge coded data with other dataframes as required.\n",
    "- `section`: column of integer values that can be used to organize documents by classification.\n",
    "- `index`: column of integer values used to internally order documents in the same section. It is absolutely necessary that no duplicates of `(section,index)` exist across all rows of your dataframe.\n",
    "\n",
    "**NOTE: do not include the `.csv` portion of the filename. Later code blocks handle that automatically.**"
   ]
  },
  {
   "cell_type": "code",
   "execution_count": null,
   "id": "0bd24b3f",
   "metadata": {},
   "outputs": [],
   "source": [
    "workingFile = 'example' # which file are we working on today"
   ]
  },
  {
   "cell_type": "markdown",
   "id": "2026c75d",
   "metadata": {},
   "source": [
    "### Setting User Information\n",
    "\n",
    "This block loads in all of the users currently associated with a project and allows one to select a user for the coding session. The users for the coding project are stored in a separate file `users.txt`. If you wish to add new users to the coding project, then do so through direct edits to this `txt` document. \n",
    "\n",
    "In order to add a new user to the coding project: create a new line in the document, write the name that the coder will be identified by (without including any spaces in the name), put a single space, and then write a unique prime number to be used as that coder's signature."
   ]
  },
  {
   "cell_type": "code",
   "execution_count": null,
   "id": "7740ebd3",
   "metadata": {
    "scrolled": true
   },
   "outputs": [],
   "source": [
    "users = []\n",
    "f = open(\"users.txt\", \"r\")\n",
    "for line in f: # read through every user\n",
    "    read = line.split()\n",
    "    users.append((read[0],int(read[1])))\n",
    "f.close()\n",
    "primes = [int(val[1]) for val in users]\n",
    "    \n",
    "user = 1 # preset to unacceptable value\n",
    "while(user not in primes) : # keep seeking input until it is done right\n",
    "    user = int(input(\"Please enter prime value associated with user ID: \")) # acquire integer input\n",
    "    if(user not in primes) : # fail safe checks for improper integer\n",
    "        print(\"Incorrect input, review users txt document and try again\")"
   ]
  },
  {
   "cell_type": "markdown",
   "id": "8c0d12db",
   "metadata": {},
   "source": [
    "### LOAD, INPUT, SAVE: The Three Main Blocks\n",
    "\n",
    "the following three blocks are where we will be spending the bulk of our time as we generate the tags for our data set.\n",
    "1. ***LOAD BLOCK***: loads in the `.csv` of partially completed tags and allows us to continue working upon it.\n",
    "2. ***INPUT BLOCK***: Procedurally lets you code documents to which you have not yet added tags.\n",
    "3. ***SAVE BLOCK***: saves the changes to the `.csv` that you have made within the ***INPUT BLOCK***. If you don't want to save your changes, then simply re-run the ***LOAD BLOCK*** after pausing the ***INPUT BLOCK***."
   ]
  },
  {
   "cell_type": "markdown",
   "id": "1ef0afd3",
   "metadata": {},
   "source": [
    "### More on LOAD BLOCK \n",
    "<a id='loadBlock'></a>\n",
    "\n",
    "Be sure to revisit this block whenever you want to undo any changes that you have made to the coding prior to saving. Loading is irreversible, so a failsafe measure is in place to ensure the block isn't run on accident."
   ]
  },
  {
   "cell_type": "code",
   "execution_count": null,
   "id": "065545d0",
   "metadata": {},
   "outputs": [],
   "source": [
    "query = input(\"Are you sure you wish to overwrite your working data frame with the previous version? (y/n) \") # seek verification\n",
    "if(query.lower() == 'y') : # acquired\n",
    "    print(\"\\nData frame has been loaded.\")\n",
    "    codeDF = pd.read_csv(f'{workingFile}.csv') # load in Datafrme to begin working\n",
    "    codeDF['section'] = codeDF['section'].apply(lambda val: str(val)) # make sure section labels are uniformly strings\n",
    "else : # denied\n",
    "    print(\"\\nPrevious data frame WAS NOT loaded.\")"
   ]
  },
  {
   "cell_type": "markdown",
   "id": "ac96dbff",
   "metadata": {},
   "source": [
    "### More on INPUT BLOCK ###\n",
    "<a id='inputBlock'></a>\n",
    "\n",
    "As you run ***INPUT BLOCK***, you will be shown documents yet to be tagged by you. As documents are read, you have the option of being shown what tags have been left by your fellow coders. You will then be given an input box where you can type in tags for the document. As you input your tags be sure to adhere to a specific listing style.\n",
    "- For consistency, it is recommended that all tags be written in lowercase.\n",
    "- Write `, ` (comma then a single space) between each of your tags. If you don't do this, then the string splitter will confuse tags together as one long tag.\n",
    "- if you ever want to take a break, enter `pausetag` for your next entry: this will halt the tagging procedure.\n",
    "\n",
    "***NOTE*** : if you ever wish to skip over adding tags to a comment and leave it uncompleted, enter an empty string into the input window when prompted."
   ]
  },
  {
   "cell_type": "code",
   "execution_count": null,
   "id": "5dbce37f",
   "metadata": {
    "scrolled": true
   },
   "outputs": [],
   "source": [
    "blind = False # should we be permitted to see the tags of others? (True for no, False for yes)\n",
    "\n",
    "skip = input(\"What section would you like to resume coding from? \") # choose what section to work from\n",
    "codeDF_sec = codeDF[codeDF['section'] == skip]\n",
    "for ind, row in codeDF_sec.iterrows():\n",
    "    if(row['completion'] % user != 0): # if comment is not completed:\n",
    "        commPrint(row['index'], skip, codeDF, blind, users)\n",
    "        rawtags = input(\"\\t Please enter the appropriate tags for this document: \") # input tags as comma'd list\n",
    "        if(rawtags == 'pausetag'): # special pausing operation\n",
    "            print('\\n\\t ---- PAUSING TAG PROTOCOL ----\\n') \n",
    "            break # abort the loop for now\n",
    "        codeDF = tagSplitAdd(row['index'], skip, codeDF, rawtags, user)   "
   ]
  },
  {
   "cell_type": "markdown",
   "id": "9cb3edf5",
   "metadata": {},
   "source": [
    "### More on SAVE BLOCK\n",
    "<a id='saveBlock'></a>\n",
    "\n",
    "Be sure to revisit this block whenever you want to save any changes that you have made to the coding. Saving is irreversible at this time, so I included a failsafe just in case you run this block unintentionally."
   ]
  },
  {
   "cell_type": "code",
   "execution_count": null,
   "id": "8dbd29b7",
   "metadata": {
    "scrolled": false
   },
   "outputs": [],
   "source": [
    "query = input(\"Are you sure you wish to overwrite the previous data frame with your current version? (y/n) \") # seek verification\n",
    "if(query.lower() == 'y') : # acquired\n",
    "    print(\"\\nData frame has been saved.\")\n",
    "    codeDF.to_csv(f'{workingFile}.csv', index = False) # overwrite .csv with current version\n",
    "else :  # denied\n",
    "    print(\"\\nData frame WAS NOT saved.\") # state that save did not occur"
   ]
  },
  {
   "cell_type": "markdown",
   "id": "08403329",
   "metadata": {},
   "source": [
    "#### Viewing Tag Dictionary ####\n",
    "<a id='viewTagBlock'></a>\n",
    "\n",
    "This code block allows you to review all of the current tags that exist for your version of the dataframe. The tags are displayed in a dictionary format along with the number of times that they occur within the dataframe. When viewing tags, you can choose to view only a specific section's breakdown as opposed to the breakdown of all tags. Should you wish to view the breakdown of all tags, hit only return/enter at the section request prompt. At present, the tags may be viewed either alphabetically or in descending order of frequency."
   ]
  },
  {
   "cell_type": "code",
   "execution_count": null,
   "id": "4002ce9a",
   "metadata": {
    "scrolled": true
   },
   "outputs": [],
   "source": [
    "sec = input('Which section would you like to view tag frequency for? ')\n",
    "if(sec == ''):\n",
    "    viewDF = codeDF\n",
    "else:\n",
    "    viewDF = codeDF.groupby('section').get_group(sec)\n",
    "tagView = {tag : tagCount(viewDF[tag]) for tag in viewDF.columns if tag not in omit}\n",
    "\n",
    "print(f\"{sec} tags sorted alphabetically: \")\n",
    "for tag, freq in sorted(tagView.items(), key = lambda x: x[0]):\n",
    "    if(freq > 0):\n",
    "        print(f'  {tag}:  {freq}')\n",
    "\n",
    "print(f\"\\n{sec} of tags sorted by frequency: \")\n",
    "for tag, freq in sorted(tagView.items(), key = lambda x: x[1], reverse=True) :\n",
    "    if(freq > 0):\n",
    "        print(f'  {tag}:  {freq}')\n",
    "    \n"
   ]
  },
  {
   "cell_type": "markdown",
   "id": "2ca4db73",
   "metadata": {},
   "source": [
    "### Viewing Tagged Entries Subject to Tag\n",
    "<a id='filtBlock'></a>\n",
    "\n",
    "This block allows you to enter a list of tags. It will then output a sub-data frame containing all documents that have been labeled with all/any of the tags which you have listed. the difference between the all/any is determined by your setting of the `andOr` argument to either `True/False` respectively. In order to run a search, fill in taglist with your tags, adjust `andOr` as necessary, and then run the code block. If an error occurs, check that each of your inputted tags are inputted correctly and the formatted list has `', '` between each tag item.\n",
    "\n",
    "After running block, you may refer to the bulk edit block located below. This allows you to sequentially edit the filtered documents."
   ]
  },
  {
   "cell_type": "code",
   "execution_count": null,
   "id": "6584bc46",
   "metadata": {
    "scrolled": true
   },
   "outputs": [],
   "source": [
    "rawtags = input(\"Please enter list of tags by which to filter: \")\n",
    "taglist = rawtags.split(\", \")\n",
    "cho = input(\"Enter a section to filter by: (or hit only return/enter to search across all sections): \")\n",
    "andOr = bool(int(input(\"Enter 1/0 to filter for documents that contain all/any of the tags entered. \")))\n",
    "\n",
    "filt = commView(taglist, codeDF, andOr) # create filtered sub-data frame\n",
    "if(not(cho)): \n",
    "    for ind, row in codeDF.iterrows() : # look across filtered dataframe\n",
    "        if(filt[ind]):\n",
    "            commPrint(row['index'], row['section'], codeDF, False, users) # print out each of its comments with tags.\n",
    "else: \n",
    "    for ind, row in codeDF.loc[codeDF['section'] == cho].iterrows() :\n",
    "        if(filt[ind]):\n",
    "            commPrint(row['index'], row['section'], codeDF, False, users) # print out each of its comments with tags."
   ]
  },
  {
   "cell_type": "markdown",
   "id": "f031097e",
   "metadata": {},
   "source": [
    "### Editing Filtered Documents Subject to Tags\n",
    "\n",
    "If you have examined a sequence of documents that are filtered based on which tags they have, you may then run this block in order to sequentially edit them without having to re-enter the standard input."
   ]
  },
  {
   "cell_type": "code",
   "execution_count": null,
   "id": "fd4f6849",
   "metadata": {
    "scrolled": true
   },
   "outputs": [],
   "source": [
    "if(not(cho)): \n",
    "    for ind, row in codeDF.loc[codeDF['section'] == cho].iterrows() :\n",
    "        if(filt[ind]):\n",
    "            codeDF = tagEdit(row['index'], row['section'], codeDF, user, users)\n",
    "else: \n",
    "    for ind, row in codeDF.iterrows() :\n",
    "        if(filt[ind]):\n",
    "            codeDF = tagEdit(row['index'], row['section'], codeDF, user, users)"
   ]
  },
  {
   "cell_type": "markdown",
   "id": "03e9834d",
   "metadata": {},
   "source": [
    "### Filtering for Agreement Through Tags\n",
    "<a id='diffBlock'></a>\n",
    "\n",
    "Once tagging is completed, it is useful to be able to quickly look at the documents with different tag assignment between users. This block does exactly that as it filers out "
   ]
  },
  {
   "cell_type": "code",
   "execution_count": null,
   "id": "b9b7efda",
   "metadata": {},
   "outputs": [],
   "source": [
    "confDF = commDiff(codeDF)\n",
    "for ind, row in confDF.iterrows() : # look across filtered dataframe\n",
    "    commPrint(row['index'], row['section'], confDF, False, users) # print out each of its comments with tags."
   ]
  },
  {
   "cell_type": "markdown",
   "id": "7ad9e5db",
   "metadata": {},
   "source": [
    "### Editing Tags on an Existing Document\n",
    "<a id='editBlock'></a>\n",
    "\n",
    "If you wish to alter the existing tags on a document, you can use this block. Begin by entering the indexing information for the document that you wish to change. You are then prompted enter a character describing the edit operation that you would like to perform.\n",
    "\n",
    "***NOTE*** : if you ever wish to skip over adding or deleting tags, enter an empty string into the input window when prompted."
   ]
  },
  {
   "cell_type": "code",
   "execution_count": null,
   "id": "d6a6b769",
   "metadata": {
    "scrolled": false
   },
   "outputs": [],
   "source": [
    "sec = input(\"Enter the section to which the document belongs: \")\n",
    "ind = input(\"Enter the index number for the document: \")\n",
    "codeDF = tagEdit(int(ind), sec, codeDF, user, users) # proceed with block"
   ]
  },
  {
   "cell_type": "markdown",
   "id": "71ce58d2",
   "metadata": {},
   "source": [
    "### Deleting Tags Across all Documents\n",
    "<a id='tagDelBlock'></a>\n",
    "\n",
    "If we ever decide that a tag is useless, we can delete it from all documents simultaneously. The feature will also reset the completion status of documents that no longer have any tags after the deletion."
   ]
  },
  {
   "cell_type": "code",
   "execution_count": null,
   "id": "6ac06206",
   "metadata": {},
   "outputs": [],
   "source": [
    "tag = input(\"Which tag would you like to have deleted from the data frame? \")\n",
    "codeDF = tagWholeDel(tag,codeDF)"
   ]
  },
  {
   "cell_type": "markdown",
   "id": "5bb32410",
   "metadata": {},
   "source": [
    "#### Merging Similar Tags into Umbrella Tag ####\n",
    "<a id='mergeBlock'></a>\n",
    "\n",
    "As we complete our coding on each document, we will find that a large number of tagging discrepancies will be due to us using different words for the same premise _(e.g. procrastinate, procrastionation, procrastinating)_. We may also find that there will be some tags that are just typos of another much more common tag. In order to quickly merge these tags together into a single unifying tag, there exists this block.\n",
    "\n",
    "The code block is used by inputting a properly formatted list of tags that you wish to have merged together. You must then provide a name for the umbrella tag that you wish to have replace all of the component tags. Following this input, you will be given a data frame that condenses together the selected tag columns into a single new column. As a side effect of this merging, all authors will be credited with writing the merged tag if they contribued to the writing of any component tag for a given document.\n",
    "\n",
    "***NOTE*** : this block will crash if you attempt to merge a tag that does not exist."
   ]
  },
  {
   "cell_type": "code",
   "execution_count": null,
   "id": "64f11a01",
   "metadata": {
    "scrolled": false
   },
   "outputs": [],
   "source": [
    "rawComp = input(\"Please enter the properly formatted list of tags that you would like to have merged together: \")\n",
    "comp = rawComp.split(', ')\n",
    "umb = input(\"Please enter the new tag under which you would like your component tags merged: \")\n",
    "clean = bool(int(input(\"Enter 0 if you would like to keep the component tags and enter 1 to delete them: \")))\n",
    "tagMerge(comp, umb, codeDF, clean)"
   ]
  },
  {
   "cell_type": "markdown",
   "id": "c774a111",
   "metadata": {},
   "source": [
    "### Mass Tagging with a Dictionary\n",
    "\n",
    "Tag merging could end up being a somewhat tedious process if inputted one at a time. As an alternative, one may use a dictionary variable as a guideline for the mass merging of many tags into a smaller number of tags. This feature is broken up into two blocks.\n",
    "1. The first block involves you drafting a dictionary variable that we shall call `tagDict`. The dictionary ought to be designed so that the key is the umbrella tag that you wish to simplify to and the value is a list of component tags that you want to have reduced down to the single umbrella tag.\n",
    "2. The second block takes the dictionary drafted in the first block as input and then does a tag merge for each key-value pair. Be sure that you have your dictionary properly formatted before running this block lest you accidentally undo some of your work on accident."
   ]
  },
  {
   "cell_type": "code",
   "execution_count": null,
   "id": "c348c1a7",
   "metadata": {},
   "outputs": [],
   "source": [
    "tagDict = {\n",
    "    'example1': [\n",
    "        'test',\n",
    "        'foo',\n",
    "        'bar'\n",
    "    ],\n",
    "    'example2': [\n",
    "        'high',\n",
    "        'lo'\n",
    "    ]    \n",
    "}"
   ]
  },
  {
   "cell_type": "code",
   "execution_count": null,
   "id": "2f900064",
   "metadata": {},
   "outputs": [],
   "source": [
    "for key,val in tagDict.items():\n",
    "    tagMerge(val, key, codeDF, False)"
   ]
  },
  {
   "cell_type": "markdown",
   "id": "77d5f745",
   "metadata": {},
   "source": [
    "### Final Saving of Personallized Copy\n",
    "<a id='endSaveBlock'></a>\n",
    "\n",
    "A current issue that exists for this notebook is that authors who work simultaneously risk erasing eachother's work should they attempt to share files. To facilitate simultaneous coding, there exists this *final* save option. This saving block takes all of the changes that you have made to your dataframe and saves them to *another* `.csv` file that is unique to you as a user. This way when you make your final save: you can do it without worrying about overwriting the work of another coder. The code block itself functions identically to the previous save block. By only sharing your personalized copy on Github, you can merge the files of yourself and your fellow authors into another dataframe that you can continue coding at a later time.\n",
    "\n",
    "**BE SURE TO USE IT BEFORE FINISHING PRELIMINARY CODING AND PUSHING TO GITHUB!**"
   ]
  },
  {
   "cell_type": "code",
   "execution_count": null,
   "id": "bc9cc6c0",
   "metadata": {},
   "outputs": [],
   "source": [
    "query = input(\"Are you sure you wish to overwrite your personalized data frame with your current version? (y/n) \") # seek verification\n",
    "if(query.lower() == 'y') : # acquired\n",
    "    print(\"\\nPersonalized data frame has been saved.\")\n",
    "    codeDF.to_csv(f'{workingFile}{primeName(user,users)}.csv', index = False) # overwrite .csv with current version\n",
    "else :  # denied\n",
    "    print(\"\\nPersonalized data frame WAS NOT saved.\") # state that save did not occur"
   ]
  },
  {
   "cell_type": "markdown",
   "id": "ec2c83ed",
   "metadata": {},
   "source": [
    "And that is the complete functionality of the qualitative coder!"
   ]
  }
 ],
 "metadata": {
  "kernelspec": {
   "display_name": "Python 3 (ipykernel)",
   "language": "python",
   "name": "python3"
  },
  "language_info": {
   "codemirror_mode": {
    "name": "ipython",
    "version": 3
   },
   "file_extension": ".py",
   "mimetype": "text/x-python",
   "name": "python",
   "nbconvert_exporter": "python",
   "pygments_lexer": "ipython3",
   "version": "3.8.16"
  }
 },
 "nbformat": 4,
 "nbformat_minor": 5
}
