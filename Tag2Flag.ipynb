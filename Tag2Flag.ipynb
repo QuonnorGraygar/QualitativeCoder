{
 "cells": [
  {
   "cell_type": "markdown",
   "id": "473a77c0",
   "metadata": {},
   "source": [
    "## Converting Qalitative Code Format to Machine Learning Format\n",
    "\n",
    "The purpose of this notebook is to extract the main themes identified during qualitative coding and converting their values so that they may be later processed by a machine learning model. Begin by loading in the necessary packages and files"
   ]
  },
  {
   "cell_type": "code",
   "execution_count": null,
   "id": "04bdb269",
   "metadata": {},
   "outputs": [],
   "source": [
    "import pandas as pd\n",
    "import numpy as np\n",
    "pd.options.mode.chained_assignment = None # block false positive warning\n",
    "\n",
    "tagdf = pd.read_csv('example.csv')"
   ]
  },
  {
   "cell_type": "markdown",
   "id": "619ef4b2",
   "metadata": {},
   "source": [
    "### Pulling Main Themes\n",
    "\n",
    "In this block, we list off the themes that we wish to predict with our machine learning model. We pull them out of our larger `flagdf` and bring them into our `tagdf` with flattened values of either 0 or 1. We also carry over the `id` as that is our primary means of reconnecting text data with whatever larger dataframe from which it came."
   ]
  },
  {
   "cell_type": "code",
   "execution_count": null,
   "id": "5a1e2549",
   "metadata": {},
   "outputs": [],
   "source": [
    "flagdf = pd.DataFrame()\n",
    "flagdf['text'] = tagdf['text']\n",
    "flagdf['id'] = tagdf['id']\n",
    "taketags = [\n",
    "    # Fill with tags that should be carried forward\n",
    "]\n",
    "for tag in taketags:\n",
    "    if(tag in tagdf.columns):\n",
    "        flagdf[tag] = tagdf[tag].apply(lambda val : int((val)>1))"
   ]
  },
  {
   "cell_type": "markdown",
   "id": "424751ce",
   "metadata": {},
   "source": [
    "### Saving Modified Files\n",
    "\n",
    "The last thing we need to do is save the modified version of the dataframe."
   ]
  },
  {
   "cell_type": "code",
   "execution_count": null,
   "id": "05c0978e",
   "metadata": {},
   "outputs": [],
   "source": [
    "with open(f'example_end.csv','w', encoding='utf-8') as f: # save file\n",
    "    f.write(flagdf.to_csv(index = False))"
   ]
  },
  {
   "cell_type": "markdown",
   "id": "58fd4ac1",
   "metadata": {},
   "source": [
    "That's all Folks!"
   ]
  }
 ],
 "metadata": {
  "kernelspec": {
   "display_name": "Python 3 (ipykernel)",
   "language": "python",
   "name": "python3"
  },
  "language_info": {
   "codemirror_mode": {
    "name": "ipython",
    "version": 3
   },
   "file_extension": ".py",
   "mimetype": "text/x-python",
   "name": "python",
   "nbconvert_exporter": "python",
   "pygments_lexer": "ipython3",
   "version": "3.8.16"
  }
 },
 "nbformat": 4,
 "nbformat_minor": 5
}
